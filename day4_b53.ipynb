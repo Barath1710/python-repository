{
 "cells": [
  {
   "cell_type": "code",
   "execution_count": null,
   "id": "1ee5e041",
   "metadata": {},
   "outputs": [],
   "source": [
    "#f strings"
   ]
  },
  {
   "cell_type": "code",
   "execution_count": 2,
   "id": "95cb841b",
   "metadata": {},
   "outputs": [],
   "source": [
    "firstname=\"barath\""
   ]
  },
  {
   "cell_type": "code",
   "execution_count": 3,
   "id": "6fc5eea3",
   "metadata": {},
   "outputs": [],
   "source": [
    "middlename=\"kumar\""
   ]
  },
  {
   "cell_type": "code",
   "execution_count": 4,
   "id": "54c94002",
   "metadata": {},
   "outputs": [],
   "source": [
    "lastname=\"s\""
   ]
  },
  {
   "cell_type": "code",
   "execution_count": 5,
   "id": "171bb6a9",
   "metadata": {},
   "outputs": [
    {
     "ename": "SyntaxError",
     "evalue": "invalid syntax (<ipython-input-5-a05a3057e58e>, line 1)",
     "output_type": "error",
     "traceback": [
      "\u001b[1;36m  File \u001b[1;32m\"<ipython-input-5-a05a3057e58e>\"\u001b[1;36m, line \u001b[1;32m1\u001b[0m\n\u001b[1;33m    fullname=f{firstname} (middlename) {lastname}\u001b[0m\n\u001b[1;37m              ^\u001b[0m\n\u001b[1;31mSyntaxError\u001b[0m\u001b[1;31m:\u001b[0m invalid syntax\n"
     ]
    }
   ],
   "source": [
    "fullname=f{firstname} (middlename) {lastname}"
   ]
  },
  {
   "cell_type": "code",
   "execution_count": 6,
   "id": "d4f4936c",
   "metadata": {},
   "outputs": [
    {
     "ename": "SyntaxError",
     "evalue": "invalid syntax (<ipython-input-6-5a2c0735f0b1>, line 1)",
     "output_type": "error",
     "traceback": [
      "\u001b[1;36m  File \u001b[1;32m\"<ipython-input-6-5a2c0735f0b1>\"\u001b[1;36m, line \u001b[1;32m1\u001b[0m\n\u001b[1;33m    fullname=f \"{firstname} (middlename) {lastname}\"\u001b[0m\n\u001b[1;37m               ^\u001b[0m\n\u001b[1;31mSyntaxError\u001b[0m\u001b[1;31m:\u001b[0m invalid syntax\n"
     ]
    }
   ],
   "source": [
    "fullname=f \"{firstname} (middlename) {lastname}\""
   ]
  },
  {
   "cell_type": "code",
   "execution_count": 8,
   "id": "02ec2c06",
   "metadata": {},
   "outputs": [],
   "source": [
    "fullname=f\"{firstname} {middlename} {lastname}\""
   ]
  },
  {
   "cell_type": "code",
   "execution_count": 9,
   "id": "3a28a876",
   "metadata": {},
   "outputs": [
    {
     "name": "stdout",
     "output_type": "stream",
     "text": [
      "barath kumar s\n"
     ]
    }
   ],
   "source": [
    "print(fullname)"
   ]
  },
  {
   "cell_type": "code",
   "execution_count": 13,
   "id": "fc270680",
   "metadata": {},
   "outputs": [
    {
     "name": "stdout",
     "output_type": "stream",
     "text": [
      "hello,barath kumar s\n"
     ]
    }
   ],
   "source": [
    "print(f\"hello,{fullname}\")"
   ]
  },
  {
   "cell_type": "code",
   "execution_count": 14,
   "id": "a641323b",
   "metadata": {},
   "outputs": [
    {
     "name": "stdout",
     "output_type": "stream",
     "text": [
      "hello,Barath Kumar S\n"
     ]
    }
   ],
   "source": [
    "print(f\"hello,{fullname.title()}\")"
   ]
  },
  {
   "cell_type": "code",
   "execution_count": null,
   "id": "2ceaf1ac",
   "metadata": {},
   "outputs": [],
   "source": [
    "#adding white spaces"
   ]
  },
  {
   "cell_type": "code",
   "execution_count": 16,
   "id": "4ac000a5",
   "metadata": {},
   "outputs": [
    {
     "name": "stdout",
     "output_type": "stream",
     "text": [
      "students_name: \n",
      "barath \n",
      "kumar \n",
      "tej \n",
      "aadhya\n"
     ]
    }
   ],
   "source": [
    "print(\"students_name: \\nbarath \\nkumar \\ntej \\naadhya\")"
   ]
  },
  {
   "cell_type": "code",
   "execution_count": 17,
   "id": "cb05294e",
   "metadata": {},
   "outputs": [
    {
     "name": "stdout",
     "output_type": "stream",
     "text": [
      "students_name: \n",
      "\tbarath \n",
      "\tkumar \n",
      "\ttej \n",
      "\taadhya\n"
     ]
    }
   ],
   "source": [
    "print(\"students_name: \\n\\tbarath \\n\\tkumar \\n\\ttej \\n\\taadhya\")"
   ]
  },
  {
   "cell_type": "code",
   "execution_count": 18,
   "id": "09b7d35b",
   "metadata": {},
   "outputs": [],
   "source": [
    "#list daratypes"
   ]
  },
  {
   "cell_type": "code",
   "execution_count": 19,
   "id": "2a799c96",
   "metadata": {},
   "outputs": [
    {
     "ename": "SyntaxError",
     "evalue": "invalid syntax (<ipython-input-19-1543dd37fec4>, line 1)",
     "output_type": "error",
     "traceback": [
      "\u001b[1;36m  File \u001b[1;32m\"<ipython-input-19-1543dd37fec4>\"\u001b[1;36m, line \u001b[1;32m1\u001b[0m\n\u001b[1;33m    names=['barath'.'kumar'.'tej'.'aadhya']\u001b[0m\n\u001b[1;37m                    ^\u001b[0m\n\u001b[1;31mSyntaxError\u001b[0m\u001b[1;31m:\u001b[0m invalid syntax\n"
     ]
    }
   ],
   "source": [
    "names=['barath'.'kumar'.'tej'.'aadhya']"
   ]
  },
  {
   "cell_type": "code",
   "execution_count": 20,
   "id": "a0e71d5b",
   "metadata": {},
   "outputs": [],
   "source": [
    "names=['barath','kumar','tej','aadhya']"
   ]
  },
  {
   "cell_type": "code",
   "execution_count": 21,
   "id": "ce393431",
   "metadata": {},
   "outputs": [
    {
     "data": {
      "text/plain": [
       "list"
      ]
     },
     "execution_count": 21,
     "metadata": {},
     "output_type": "execute_result"
    }
   ],
   "source": [
    "type(names)"
   ]
  },
  {
   "cell_type": "code",
   "execution_count": 22,
   "id": "430ad7a6",
   "metadata": {},
   "outputs": [
    {
     "name": "stdout",
     "output_type": "stream",
     "text": [
      "barath\n"
     ]
    }
   ],
   "source": [
    "print(names[0])"
   ]
  },
  {
   "cell_type": "code",
   "execution_count": 23,
   "id": "17e6b80a",
   "metadata": {},
   "outputs": [
    {
     "name": "stdout",
     "output_type": "stream",
     "text": [
      "Barath\n"
     ]
    }
   ],
   "source": [
    "print(names[0].title())"
   ]
  },
  {
   "cell_type": "code",
   "execution_count": 24,
   "id": "b58869e8",
   "metadata": {},
   "outputs": [],
   "source": [
    "names.append(\"surya\")"
   ]
  },
  {
   "cell_type": "code",
   "execution_count": 25,
   "id": "685c5d13",
   "metadata": {},
   "outputs": [
    {
     "name": "stdout",
     "output_type": "stream",
     "text": [
      "['barath', 'kumar', 'tej', 'aadhya', 'surya']\n"
     ]
    }
   ],
   "source": [
    "print(names)"
   ]
  },
  {
   "cell_type": "code",
   "execution_count": 26,
   "id": "e575b554",
   "metadata": {},
   "outputs": [
    {
     "ename": "NameError",
     "evalue": "name 'name' is not defined",
     "output_type": "error",
     "traceback": [
      "\u001b[1;31m---------------------------------------------------------------------------\u001b[0m",
      "\u001b[1;31mNameError\u001b[0m                                 Traceback (most recent call last)",
      "\u001b[1;32m<ipython-input-26-87d203b56d5d>\u001b[0m in \u001b[0;36m<module>\u001b[1;34m\u001b[0m\n\u001b[1;32m----> 1\u001b[1;33m \u001b[0mname\u001b[0m\u001b[1;33m.\u001b[0m\u001b[0minsert\u001b[0m\u001b[1;33m(\u001b[0m\u001b[1;36m3\u001b[0m\u001b[1;33m,\u001b[0m\u001b[1;34m\"malepati\"\u001b[0m\u001b[1;33m)\u001b[0m\u001b[1;33m\u001b[0m\u001b[1;33m\u001b[0m\u001b[0m\n\u001b[0m",
      "\u001b[1;31mNameError\u001b[0m: name 'name' is not defined"
     ]
    }
   ],
   "source": [
    "name.insert(3,\"malepati\")"
   ]
  },
  {
   "cell_type": "code",
   "execution_count": 27,
   "id": "7880c5a3",
   "metadata": {},
   "outputs": [],
   "source": [
    "names.insert(3,\"malepati\")"
   ]
  },
  {
   "cell_type": "code",
   "execution_count": 28,
   "id": "62b11608",
   "metadata": {},
   "outputs": [
    {
     "name": "stdout",
     "output_type": "stream",
     "text": [
      "['barath', 'kumar', 'tej', 'malepati', 'aadhya', 'surya']\n"
     ]
    }
   ],
   "source": [
    "print(names)"
   ]
  },
  {
   "cell_type": "code",
   "execution_count": 29,
   "id": "6b2b406c",
   "metadata": {},
   "outputs": [],
   "source": [
    "names[2]=\"tejaswi\""
   ]
  },
  {
   "cell_type": "code",
   "execution_count": 30,
   "id": "85d7d895",
   "metadata": {},
   "outputs": [
    {
     "name": "stdout",
     "output_type": "stream",
     "text": [
      "['barath', 'kumar', 'tejaswi', 'malepati', 'aadhya', 'surya']\n"
     ]
    }
   ],
   "source": [
    "print(names)"
   ]
  },
  {
   "cell_type": "code",
   "execution_count": 31,
   "id": "74caca3e",
   "metadata": {},
   "outputs": [],
   "source": [
    "del names[4]"
   ]
  },
  {
   "cell_type": "code",
   "execution_count": 32,
   "id": "701691d7",
   "metadata": {},
   "outputs": [
    {
     "name": "stdout",
     "output_type": "stream",
     "text": [
      "['barath', 'kumar', 'tejaswi', 'malepati', 'surya']\n"
     ]
    }
   ],
   "source": [
    "print(names)"
   ]
  },
  {
   "cell_type": "code",
   "execution_count": 33,
   "id": "bcd39d10",
   "metadata": {},
   "outputs": [],
   "source": [
    "names.insert(4,\"aadhya\")"
   ]
  },
  {
   "cell_type": "code",
   "execution_count": 34,
   "id": "72fc96f5",
   "metadata": {},
   "outputs": [
    {
     "name": "stdout",
     "output_type": "stream",
     "text": [
      "['barath', 'kumar', 'tejaswi', 'malepati', 'aadhya', 'surya']\n"
     ]
    }
   ],
   "source": [
    "print(names)"
   ]
  },
  {
   "cell_type": "code",
   "execution_count": 35,
   "id": "9de5ab6c",
   "metadata": {},
   "outputs": [],
   "source": [
    "del names[5]"
   ]
  },
  {
   "cell_type": "code",
   "execution_count": 36,
   "id": "7bfc0b61",
   "metadata": {},
   "outputs": [
    {
     "name": "stdout",
     "output_type": "stream",
     "text": [
      "['barath', 'kumar', 'tejaswi', 'malepati', 'aadhya']\n"
     ]
    }
   ],
   "source": [
    "print(names)"
   ]
  },
  {
   "cell_type": "code",
   "execution_count": 37,
   "id": "fead234b",
   "metadata": {},
   "outputs": [
    {
     "ename": "AttributeError",
     "evalue": "'list' object has no attribute 'title'",
     "output_type": "error",
     "traceback": [
      "\u001b[1;31m---------------------------------------------------------------------------\u001b[0m",
      "\u001b[1;31mAttributeError\u001b[0m                            Traceback (most recent call last)",
      "\u001b[1;32m<ipython-input-37-031d65c7fc93>\u001b[0m in \u001b[0;36m<module>\u001b[1;34m\u001b[0m\n\u001b[1;32m----> 1\u001b[1;33m \u001b[0mprint\u001b[0m\u001b[1;33m(\u001b[0m\u001b[0mnames\u001b[0m\u001b[1;33m.\u001b[0m\u001b[0mtitle\u001b[0m\u001b[1;33m(\u001b[0m\u001b[1;33m)\u001b[0m\u001b[1;33m)\u001b[0m\u001b[1;33m\u001b[0m\u001b[1;33m\u001b[0m\u001b[0m\n\u001b[0m",
      "\u001b[1;31mAttributeError\u001b[0m: 'list' object has no attribute 'title'"
     ]
    }
   ],
   "source": [
    "print(names.title())"
   ]
  },
  {
   "cell_type": "code",
   "execution_count": 38,
   "id": "6f819bec",
   "metadata": {},
   "outputs": [
    {
     "name": "stdout",
     "output_type": "stream",
     "text": [
      "['barath', 'kumar', 'tejaswi', 'malepati', 'aadhya']\n"
     ]
    }
   ],
   "source": [
    "print(names)"
   ]
  },
  {
   "cell_type": "code",
   "execution_count": 39,
   "id": "444931d4",
   "metadata": {},
   "outputs": [
    {
     "ename": "AttributeError",
     "evalue": "'list' object has no attribute 'title'",
     "output_type": "error",
     "traceback": [
      "\u001b[1;31m---------------------------------------------------------------------------\u001b[0m",
      "\u001b[1;31mAttributeError\u001b[0m                            Traceback (most recent call last)",
      "\u001b[1;32m<ipython-input-39-031d65c7fc93>\u001b[0m in \u001b[0;36m<module>\u001b[1;34m\u001b[0m\n\u001b[1;32m----> 1\u001b[1;33m \u001b[0mprint\u001b[0m\u001b[1;33m(\u001b[0m\u001b[0mnames\u001b[0m\u001b[1;33m.\u001b[0m\u001b[0mtitle\u001b[0m\u001b[1;33m(\u001b[0m\u001b[1;33m)\u001b[0m\u001b[1;33m)\u001b[0m\u001b[1;33m\u001b[0m\u001b[1;33m\u001b[0m\u001b[0m\n\u001b[0m",
      "\u001b[1;31mAttributeError\u001b[0m: 'list' object has no attribute 'title'"
     ]
    }
   ],
   "source": [
    "print(names.title())   #notsure why this is not working"
   ]
  },
  {
   "cell_type": "code",
   "execution_count": 42,
   "id": "a3dba7a6",
   "metadata": {},
   "outputs": [
    {
     "name": "stdout",
     "output_type": "stream",
     "text": [
      "list_of_names:\n",
      "barath,\n",
      "kumar,\n",
      "tejaswi,\n",
      "malepati,\n",
      "aadhya\n"
     ]
    }
   ],
   "source": [
    "print(\"list_of_names:\\nbarath,\\nkumar,\\ntejaswi,\\nmalepati,\\naadhya\")"
   ]
  },
  {
   "cell_type": "code",
   "execution_count": 43,
   "id": "8c76474f",
   "metadata": {},
   "outputs": [
    {
     "name": "stdout",
     "output_type": "stream",
     "text": [
      "list_of_names:\n",
      "\tbarath,\n",
      "\tkumar,\n",
      "\ttejaswi,\n",
      "\tmalepati,\n",
      "\taadhya\n"
     ]
    }
   ],
   "source": [
    "print(\"list_of_names:\\n\\tbarath,\\n\\tkumar,\\n\\ttejaswi,\\n\\tmalepati,\\n\\taadhya\")"
   ]
  },
  {
   "cell_type": "code",
   "execution_count": 44,
   "id": "d1c4306b",
   "metadata": {},
   "outputs": [
    {
     "name": "stdout",
     "output_type": "stream",
     "text": [
      "list_of_names:\n",
      "\tbarath,\n",
      "\tkumar,\n",
      "\ttejaswi,\n",
      "\tmalepati,\n",
      "\taadhya.title()\n"
     ]
    }
   ],
   "source": [
    "print(\"list_of_names:\\n\\tbarath,\\n\\tkumar,\\n\\ttejaswi,\\n\\tmalepati,\\n\\taadhya.title()\")"
   ]
  },
  {
   "cell_type": "code",
   "execution_count": 45,
   "id": "3b50203f",
   "metadata": {},
   "outputs": [],
   "source": [
    "a=names.pop()"
   ]
  },
  {
   "cell_type": "code",
   "execution_count": 46,
   "id": "5c5a242a",
   "metadata": {},
   "outputs": [
    {
     "name": "stdout",
     "output_type": "stream",
     "text": [
      "['barath', 'kumar', 'tejaswi', 'malepati']\n"
     ]
    }
   ],
   "source": [
    "print(names)"
   ]
  },
  {
   "cell_type": "code",
   "execution_count": 47,
   "id": "a56932ab",
   "metadata": {},
   "outputs": [
    {
     "name": "stdout",
     "output_type": "stream",
     "text": [
      "aadhya\n"
     ]
    }
   ],
   "source": [
    "print(a)"
   ]
  },
  {
   "cell_type": "code",
   "execution_count": 48,
   "id": "dc19ccec",
   "metadata": {},
   "outputs": [],
   "source": [
    "b=names.pop(1)"
   ]
  },
  {
   "cell_type": "code",
   "execution_count": 49,
   "id": "75e69747",
   "metadata": {},
   "outputs": [
    {
     "name": "stdout",
     "output_type": "stream",
     "text": [
      "['barath', 'tejaswi', 'malepati']\n"
     ]
    }
   ],
   "source": [
    "print(names)"
   ]
  },
  {
   "cell_type": "code",
   "execution_count": 50,
   "id": "bf43feb1",
   "metadata": {},
   "outputs": [
    {
     "name": "stdout",
     "output_type": "stream",
     "text": [
      "kumar\n"
     ]
    }
   ],
   "source": [
    "print(b)"
   ]
  },
  {
   "cell_type": "code",
   "execution_count": 51,
   "id": "269bcf8f",
   "metadata": {},
   "outputs": [
    {
     "name": "stdout",
     "output_type": "stream",
     "text": [
      "['barath', 'tejaswi', 'malepati']\n"
     ]
    }
   ],
   "source": [
    "print(names)"
   ]
  },
  {
   "cell_type": "code",
   "execution_count": null,
   "id": "4b175473",
   "metadata": {},
   "outputs": [],
   "source": []
  },
  {
   "cell_type": "code",
   "execution_count": null,
   "id": "7f97e67d",
   "metadata": {},
   "outputs": [],
   "source": []
  }
 ],
 "metadata": {
  "kernelspec": {
   "display_name": "Python 3",
   "language": "python",
   "name": "python3"
  },
  "language_info": {
   "codemirror_mode": {
    "name": "ipython",
    "version": 3
   },
   "file_extension": ".py",
   "mimetype": "text/x-python",
   "name": "python",
   "nbconvert_exporter": "python",
   "pygments_lexer": "ipython3",
   "version": "3.8.8"
  }
 },
 "nbformat": 4,
 "nbformat_minor": 5
}

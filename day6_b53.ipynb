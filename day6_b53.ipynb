{
 "cells": [
  {
   "cell_type": "code",
   "execution_count": 1,
   "id": "c8cd7dc9",
   "metadata": {},
   "outputs": [],
   "source": [
    "Students=[\"barath\",\"kumar\",\"tej\",\"malepati\",\"aadhya\"]"
   ]
  },
  {
   "cell_type": "code",
   "execution_count": 2,
   "id": "eb08fa41",
   "metadata": {},
   "outputs": [],
   "source": [
    "cars=[\"ford\",\"maruthi\",\"bmw\",\"audi\",\"benz\",\"toyota\"]"
   ]
  },
  {
   "cell_type": "code",
   "execution_count": 9,
   "id": "cf612187",
   "metadata": {},
   "outputs": [
    {
     "name": "stdout",
     "output_type": "stream",
     "text": [
      "hello,['barath', 'kumar', 'tej', 'malepati', 'aadhya']\n"
     ]
    }
   ],
   "source": [
    "print(f\"hello,{Students}\")"
   ]
  },
  {
   "cell_type": "code",
   "execution_count": 10,
   "id": "b424c8c4",
   "metadata": {},
   "outputs": [
    {
     "name": "stdout",
     "output_type": "stream",
     "text": [
      "goodwork,['barath', 'kumar', 'tej', 'malepati', 'aadhya']\n"
     ]
    }
   ],
   "source": [
    "print(f\"goodwork,{Students}\")"
   ]
  },
  {
   "cell_type": "code",
   "execution_count": 11,
   "id": "ad0b5679",
   "metadata": {},
   "outputs": [
    {
     "name": "stdout",
     "output_type": "stream",
     "text": [
      "goodwork,barath\n"
     ]
    }
   ],
   "source": [
    "print(f\"goodwork,{Students[0]}\")"
   ]
  },
  {
   "cell_type": "code",
   "execution_count": 6,
   "id": "65790c04",
   "metadata": {},
   "outputs": [],
   "source": [
    "Students=[\"barath\",\"kumar\",\"tej\",\"malepati\",\"aadhya\"]"
   ]
  },
  {
   "cell_type": "code",
   "execution_count": 8,
   "id": "4884d6fa",
   "metadata": {},
   "outputs": [
    {
     "name": "stdout",
     "output_type": "stream",
     "text": [
      "goodwork,barath\n"
     ]
    }
   ],
   "source": [
    "print(f\"goodwork,{Students[0]}\")"
   ]
  },
  {
   "cell_type": "code",
   "execution_count": 14,
   "id": "bb918f5b",
   "metadata": {},
   "outputs": [
    {
     "name": "stdout",
     "output_type": "stream",
     "text": [
      "Goodwork Barath\n"
     ]
    }
   ],
   "source": [
    "print(f\"Goodwork {Students[0].title()}\")"
   ]
  },
  {
   "cell_type": "code",
   "execution_count": 18,
   "id": "43b1abbd",
   "metadata": {},
   "outputs": [
    {
     "ename": "SyntaxError",
     "evalue": "invalid syntax (<ipython-input-18-7f1ee8c3f421>, line 1)",
     "output_type": "error",
     "traceback": [
      "\u001b[1;36m  File \u001b[1;32m\"<ipython-input-18-7f1ee8c3f421>\"\u001b[1;36m, line \u001b[1;32m1\u001b[0m\n\u001b[1;33m    for a in the students\u001b[0m\n\u001b[1;37m                 ^\u001b[0m\n\u001b[1;31mSyntaxError\u001b[0m\u001b[1;31m:\u001b[0m invalid syntax\n"
     ]
    }
   ],
   "source": [
    "for a in the students\n",
    "    print(f\"goodwork,{a}\")"
   ]
  },
  {
   "cell_type": "code",
   "execution_count": 19,
   "id": "44fdc69d",
   "metadata": {},
   "outputs": [],
   "source": [
    "Students=[\"barath\",\"kumar\",\"tej\",\"malepati\",\"aadhya\"]"
   ]
  },
  {
   "cell_type": "code",
   "execution_count": 26,
   "id": "e9057e13",
   "metadata": {},
   "outputs": [
    {
     "ename": "SyntaxError",
     "evalue": "invalid syntax (<ipython-input-26-b2a6bc48f615>, line 1)",
     "output_type": "error",
     "traceback": [
      "\u001b[1;36m  File \u001b[1;32m\"<ipython-input-26-b2a6bc48f615>\"\u001b[1;36m, line \u001b[1;32m1\u001b[0m\n\u001b[1;33m    for x in the Students\u001b[0m\n\u001b[1;37m                 ^\u001b[0m\n\u001b[1;31mSyntaxError\u001b[0m\u001b[1;31m:\u001b[0m invalid syntax\n"
     ]
    }
   ],
   "source": [
    "for x in the Students\n",
    "    print (f\"goodwork,{x}\")"
   ]
  },
  {
   "cell_type": "code",
   "execution_count": 27,
   "id": "16b63881",
   "metadata": {},
   "outputs": [],
   "source": [
    "students=[\"barath\",\"kumar\",\"tej\",\"malepati\",\"aadhya\"]"
   ]
  },
  {
   "cell_type": "code",
   "execution_count": 29,
   "id": "4c93aec7",
   "metadata": {},
   "outputs": [
    {
     "ename": "AttributeError",
     "evalue": "'list' object has no attribute 'title'",
     "output_type": "error",
     "traceback": [
      "\u001b[1;31m---------------------------------------------------------------------------\u001b[0m",
      "\u001b[1;31mAttributeError\u001b[0m                            Traceback (most recent call last)",
      "\u001b[1;32m<ipython-input-29-64353c0424e5>\u001b[0m in \u001b[0;36m<module>\u001b[1;34m\u001b[0m\n\u001b[1;32m----> 1\u001b[1;33m \u001b[0mprint\u001b[0m\u001b[1;33m(\u001b[0m\u001b[0mstudents\u001b[0m\u001b[1;33m.\u001b[0m\u001b[0mtitle\u001b[0m\u001b[1;33m(\u001b[0m\u001b[1;33m)\u001b[0m\u001b[1;33m)\u001b[0m\u001b[1;33m\u001b[0m\u001b[1;33m\u001b[0m\u001b[0m\n\u001b[0m",
      "\u001b[1;31mAttributeError\u001b[0m: 'list' object has no attribute 'title'"
     ]
    }
   ],
   "source": [
    "print(students)"
   ]
  },
  {
   "cell_type": "code",
   "execution_count": 30,
   "id": "f3411c73",
   "metadata": {},
   "outputs": [
    {
     "name": "stdout",
     "output_type": "stream",
     "text": [
      "['barath', 'kumar', 'tej', 'malepati', 'aadhya']\n"
     ]
    }
   ],
   "source": [
    "print(students)"
   ]
  },
  {
   "cell_type": "code",
   "execution_count": 36,
   "id": "3d30b5f0",
   "metadata": {},
   "outputs": [
    {
     "ename": "SyntaxError",
     "evalue": "invalid syntax (<ipython-input-36-d36b10b2fb97>, line 1)",
     "output_type": "error",
     "traceback": [
      "\u001b[1;36m  File \u001b[1;32m\"<ipython-input-36-d36b10b2fb97>\"\u001b[1;36m, line \u001b[1;32m1\u001b[0m\n\u001b[1;33m    For x in the students:\u001b[0m\n\u001b[1;37m        ^\u001b[0m\n\u001b[1;31mSyntaxError\u001b[0m\u001b[1;31m:\u001b[0m invalid syntax\n"
     ]
    }
   ],
   "source": [
    "For x in the students:\n",
    "    print (f\"good,{x}\")"
   ]
  },
  {
   "cell_type": "code",
   "execution_count": 37,
   "id": "eb0c4328",
   "metadata": {},
   "outputs": [
    {
     "name": "stdout",
     "output_type": "stream",
     "text": [
      "['barath', 'kumar', 'tej', 'malepati', 'aadhya']\n"
     ]
    }
   ],
   "source": [
    "print(students)"
   ]
  },
  {
   "cell_type": "code",
   "execution_count": 38,
   "id": "dacc2501",
   "metadata": {},
   "outputs": [
    {
     "name": "stdout",
     "output_type": "stream",
     "text": [
      "['barath', 'kumar', 'tej', 'malepati', 'aadhya']\n"
     ]
    }
   ],
   "source": [
    "print(students)"
   ]
  },
  {
   "cell_type": "code",
   "execution_count": 41,
   "id": "116a4241",
   "metadata": {},
   "outputs": [
    {
     "ename": "SyntaxError",
     "evalue": "invalid syntax (<ipython-input-41-63b02c9f77d9>, line 1)",
     "output_type": "error",
     "traceback": [
      "\u001b[1;36m  File \u001b[1;32m\"<ipython-input-41-63b02c9f77d9>\"\u001b[1;36m, line \u001b[1;32m1\u001b[0m\n\u001b[1;33m    for A in the students:\u001b[0m\n\u001b[1;37m                 ^\u001b[0m\n\u001b[1;31mSyntaxError\u001b[0m\u001b[1;31m:\u001b[0m invalid syntax\n"
     ]
    }
   ],
   "source": [
    "for A in the students:\n",
    "    print(f\"good,{x}\")"
   ]
  },
  {
   "cell_type": "code",
   "execution_count": 42,
   "id": "3cbc6b50",
   "metadata": {},
   "outputs": [
    {
     "ename": "SyntaxError",
     "evalue": "invalid syntax (<ipython-input-42-86e7979e7f6e>, line 1)",
     "output_type": "error",
     "traceback": [
      "\u001b[1;36m  File \u001b[1;32m\"<ipython-input-42-86e7979e7f6e>\"\u001b[1;36m, line \u001b[1;32m1\u001b[0m\n\u001b[1;33m    for A in the students:\u001b[0m\n\u001b[1;37m                 ^\u001b[0m\n\u001b[1;31mSyntaxError\u001b[0m\u001b[1;31m:\u001b[0m invalid syntax\n"
     ]
    }
   ],
   "source": [
    "for A in the students:\n",
    "    print (A)"
   ]
  },
  {
   "cell_type": "code",
   "execution_count": 43,
   "id": "3503cc85",
   "metadata": {},
   "outputs": [],
   "source": [
    "fruits = [\"apple\", \"banana\", \"cherry\"]"
   ]
  },
  {
   "cell_type": "code",
   "execution_count": 44,
   "id": "c311b0a2",
   "metadata": {},
   "outputs": [
    {
     "name": "stdout",
     "output_type": "stream",
     "text": [
      "apple\n",
      "banana\n",
      "cherry\n"
     ]
    }
   ],
   "source": [
    "for x in fruits:\n",
    "  print(x)"
   ]
  },
  {
   "cell_type": "code",
   "execution_count": 45,
   "id": "10384f3f",
   "metadata": {},
   "outputs": [
    {
     "name": "stdout",
     "output_type": "stream",
     "text": [
      "barath\n",
      "kumar\n",
      "tej\n",
      "malepati\n",
      "aadhya\n"
     ]
    }
   ],
   "source": [
    "for A in students:\n",
    "    print (A)"
   ]
  },
  {
   "cell_type": "code",
   "execution_count": 46,
   "id": "385eab52",
   "metadata": {},
   "outputs": [
    {
     "name": "stdout",
     "output_type": "stream",
     "text": [
      "Goodwork,barath\n",
      "Goodwork,kumar\n",
      "Goodwork,tej\n",
      "Goodwork,malepati\n",
      "Goodwork,aadhya\n"
     ]
    }
   ],
   "source": [
    "for A in students:\n",
    "    print (F\"Goodwork,{A}\")"
   ]
  },
  {
   "cell_type": "code",
   "execution_count": 48,
   "id": "bd91e803",
   "metadata": {},
   "outputs": [
    {
     "name": "stdout",
     "output_type": "stream",
     "text": [
      "Goodwork barath\n",
      "Goodwork kumar\n",
      "Goodwork tej\n",
      "Goodwork malepati\n",
      "Goodwork aadhya\n"
     ]
    }
   ],
   "source": [
    "for b in students:\n",
    "    print (F\"Goodwork {b}\")"
   ]
  },
  {
   "cell_type": "code",
   "execution_count": 52,
   "id": "987a80a0",
   "metadata": {},
   "outputs": [
    {
     "name": "stdout",
     "output_type": "stream",
     "text": [
      "Goodwork barath\n",
      "niceworkbarath\n",
      "Goodwork kumar\n",
      "niceworkkumar\n",
      "Goodwork tej\n",
      "niceworktej\n",
      "Goodwork malepati\n",
      "niceworkmalepati\n",
      "Goodwork aadhya\n",
      "niceworkaadhya\n"
     ]
    }
   ],
   "source": [
    "for b in students:\n",
    "    print (F\"Goodwork {b}\")\n",
    "    print(f\"nicework{b}\")"
   ]
  },
  {
   "cell_type": "code",
   "execution_count": 53,
   "id": "49f1b26b",
   "metadata": {},
   "outputs": [
    {
     "name": "stdout",
     "output_type": "stream",
     "text": [
      "Goodwork barath\n",
      "niceworkbarath\n",
      "\n",
      "Goodwork kumar\n",
      "niceworkkumar\n",
      "\n",
      "Goodwork tej\n",
      "niceworktej\n",
      "\n",
      "Goodwork malepati\n",
      "niceworkmalepati\n",
      "\n",
      "Goodwork aadhya\n",
      "niceworkaadhya\n",
      "\n"
     ]
    }
   ],
   "source": [
    "for b in students:\n",
    "    print (F\"Goodwork {b}\")\n",
    "    print(f\"nicework{b}\\n\")"
   ]
  },
  {
   "cell_type": "code",
   "execution_count": 54,
   "id": "2fcf1ef0",
   "metadata": {},
   "outputs": [
    {
     "name": "stdout",
     "output_type": "stream",
     "text": [
      "Goodwork barath\n",
      "niceworkbarath\n",
      "\n",
      "Goodwork kumar\n",
      "niceworkkumar\n",
      "\n",
      "Goodwork tej\n",
      "niceworktej\n",
      "\n",
      "Goodwork malepati\n",
      "niceworkmalepati\n",
      "\n",
      "Goodwork aadhya\n",
      "niceworkaadhya\n",
      "\n",
      "aadhya\n"
     ]
    }
   ],
   "source": [
    "for b in students:\n",
    "    print (F\"Goodwork {b}\")\n",
    "    print(f\"nicework{b}\\n\")\n",
    "print(b)"
   ]
  },
  {
   "cell_type": "code",
   "execution_count": 55,
   "id": "a4f67d03",
   "metadata": {},
   "outputs": [
    {
     "name": "stdout",
     "output_type": "stream",
     "text": [
      "Goodwork barath\n",
      "niceworkbarath\n",
      "\n",
      "Goodwork kumar\n",
      "niceworkkumar\n",
      "\n",
      "Goodwork tej\n",
      "niceworktej\n",
      "\n",
      "Goodwork malepati\n",
      "niceworkmalepati\n",
      "\n",
      "Goodwork aadhya\n",
      "niceworkaadhya\n",
      "\n",
      "['barath', 'kumar', 'tej', 'malepati', 'aadhya']\n"
     ]
    }
   ],
   "source": [
    "for b in students:\n",
    "    print (F\"Goodwork {b}\")\n",
    "    print(f\"nicework{b}\\n\")\n",
    "print(students)"
   ]
  },
  {
   "cell_type": "code",
   "execution_count": 65,
   "id": "36fc4f61",
   "metadata": {},
   "outputs": [
    {
     "name": "stdout",
     "output_type": "stream",
     "text": [
      "Goodwork barath\n",
      "\n",
      "niceworkbarath\test\n",
      "Goodwork kumar\n",
      "\n",
      "niceworkkumar\test\n",
      "Goodwork tej\n",
      "\n",
      "niceworktej\test\n",
      "Goodwork malepati\n",
      "\n",
      "niceworkmalepati\test\n",
      "Goodwork aadhya\n",
      "\n",
      "niceworkaadhya\test\n",
      "['barath', 'kumar', 'tej', 'malepati', 'aadhya']\n"
     ]
    }
   ],
   "source": [
    "for b in students:\n",
    "    print (F\"Goodwork {b}\\n\")\n",
    "    print(f\"nicework{b}\\test\")\n",
    "print(students)"
   ]
  },
  {
   "cell_type": "code",
   "execution_count": 70,
   "id": "a16788ca",
   "metadata": {},
   "outputs": [
    {
     "name": "stdout",
     "output_type": "stream",
     "text": [
      "Goodwork barath\n",
      "\n",
      "niceworkbarath\n",
      "Goodwork kumar\n",
      "\n",
      "niceworkkumar\n",
      "Goodwork tej\n",
      "\n",
      "niceworktej\n",
      "Goodwork malepati\n",
      "\n",
      "niceworkmalepati\n",
      "Goodwork aadhya\n",
      "\n",
      "niceworkaadhya\n"
     ]
    }
   ],
   "source": [
    "for b in students:\n",
    "    print (F\"Goodwork {b}\\n\")\n",
    "    print(f\"nicework{b}\")\n"
   ]
  },
  {
   "cell_type": "code",
   "execution_count": 72,
   "id": "4b246970",
   "metadata": {},
   "outputs": [
    {
     "name": "stdout",
     "output_type": "stream",
     "text": [
      "Goodwork barath\n",
      "\n",
      "Niceworkbarath\n",
      "\n",
      "Goodwork kumar\n",
      "\n",
      "Niceworkkumar\n",
      "\n",
      "Goodwork tej\n",
      "\n",
      "Niceworktej\n",
      "\n",
      "Goodwork malepati\n",
      "\n",
      "Niceworkmalepati\n",
      "\n",
      "Goodwork aadhya\n",
      "\n",
      "Niceworkaadhya\n",
      "\n"
     ]
    }
   ],
   "source": [
    "for b in students:\n",
    "    print (F\"Goodwork {b}\\n\")\n",
    "    print(f\"Nicework{b}\\n\")\n"
   ]
  },
  {
   "cell_type": "code",
   "execution_count": 73,
   "id": "892e79f8",
   "metadata": {},
   "outputs": [
    {
     "name": "stdout",
     "output_type": "stream",
     "text": [
      "Goodwork barath\n",
      "\n",
      "Niceworkbarath\n",
      "\n",
      "Goodwork kumar\n",
      "\n",
      "Niceworkkumar\n",
      "\n",
      "Goodwork tej\n",
      "\n",
      "Niceworktej\n",
      "\n",
      "Goodwork malepati\n",
      "\n",
      "Niceworkmalepati\n",
      "\n",
      "Goodwork aadhya\n",
      "\n",
      "Niceworkaadhya\n",
      "\n",
      "thank youaadhya\n"
     ]
    }
   ],
   "source": [
    "for b in students:\n",
    "    print (F\"Goodwork {b}\\n\")\n",
    "    print(f\"Nicework{b}\\n\")\n",
    "print(f\"thank you{b}\")"
   ]
  },
  {
   "cell_type": "code",
   "execution_count": 74,
   "id": "7e3a4342",
   "metadata": {},
   "outputs": [
    {
     "name": "stdout",
     "output_type": "stream",
     "text": [
      "Goodwork barath\n",
      "\n",
      "Niceworkbarath\n",
      "\n",
      "Goodwork kumar\n",
      "\n",
      "Niceworkkumar\n",
      "\n",
      "Goodwork tej\n",
      "\n",
      "Niceworktej\n",
      "\n",
      "Goodwork malepati\n",
      "\n",
      "Niceworkmalepati\n",
      "\n",
      "Goodwork aadhya\n",
      "\n",
      "Niceworkaadhya\n",
      "\n",
      "thank you['barath', 'kumar', 'tej', 'malepati', 'aadhya']\n"
     ]
    }
   ],
   "source": [
    "for b in students:\n",
    "    print (F\"Goodwork {b}\\n\")\n",
    "    print(f\"Nicework{b}\\n\")\n",
    "print(f\"thank you{students}\")"
   ]
  },
  {
   "cell_type": "code",
   "execution_count": null,
   "id": "8d165667",
   "metadata": {},
   "outputs": [],
   "source": []
  }
 ],
 "metadata": {
  "kernelspec": {
   "display_name": "Python 3",
   "language": "python",
   "name": "python3"
  },
  "language_info": {
   "codemirror_mode": {
    "name": "ipython",
    "version": 3
   },
   "file_extension": ".py",
   "mimetype": "text/x-python",
   "name": "python",
   "nbconvert_exporter": "python",
   "pygments_lexer": "ipython3",
   "version": "3.8.8"
  }
 },
 "nbformat": 4,
 "nbformat_minor": 5
}

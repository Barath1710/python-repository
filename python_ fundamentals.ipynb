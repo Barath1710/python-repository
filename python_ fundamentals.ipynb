{
 "cells": [
  {
   "cell_type": "code",
   "execution_count": 1,
   "id": "21111e7d",
   "metadata": {},
   "outputs": [
    {
     "name": "stdout",
     "output_type": "stream",
     "text": [
      "Iam going to learn Python\n"
     ]
    }
   ],
   "source": [
    "print(\"Iam going to learn Python\")"
   ]
  },
  {
   "cell_type": "code",
   "execution_count": null,
   "id": "33c57c64",
   "metadata": {},
   "outputs": [],
   "source": [
    "print(\"just checking\")"
   ]
  },
  {
   "cell_type": "code",
   "execution_count": 5,
   "id": "ba312a8a",
   "metadata": {},
   "outputs": [
    {
     "name": "stdout",
     "output_type": "stream",
     "text": [
      "checking if 2 lines will print\n"
     ]
    }
   ],
   "source": [
    "print(\"checking if 2 lines will print\")"
   ]
  },
  {
   "cell_type": "code",
   "execution_count": 4,
   "id": "45aea52f",
   "metadata": {},
   "outputs": [
    {
     "name": "stdout",
     "output_type": "stream",
     "text": [
      "one more test\n",
      "just for my self satisfaction\n"
     ]
    }
   ],
   "source": [
    "print(\"one more test\")\n",
    "print(\"just for my self satisfaction\")"
   ]
  },
  {
   "cell_type": "code",
   "execution_count": null,
   "id": "94c6d6a1",
   "metadata": {},
   "outputs": [],
   "source": []
  }
 ],
 "metadata": {
  "kernelspec": {
   "display_name": "Python 3",
   "language": "python",
   "name": "python3"
  },
  "language_info": {
   "codemirror_mode": {
    "name": "ipython",
    "version": 3
   },
   "file_extension": ".py",
   "mimetype": "text/x-python",
   "name": "python",
   "nbconvert_exporter": "python",
   "pygments_lexer": "ipython3",
   "version": "3.8.8"
  }
 },
 "nbformat": 4,
 "nbformat_minor": 5
}
